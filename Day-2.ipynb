{
 "cells": [
  {
   "cell_type": "markdown",
   "metadata": {},
   "source": [
    "# APSSDC DAY-2 ASSIGNMENT"
   ]
  },
  {
   "cell_type": "markdown",
   "metadata": {},
   "source": [
    "#### 1. Write a program to check wheather the user eligible for vote or not"
   ]
  },
  {
   "cell_type": "code",
   "execution_count": 5,
   "metadata": {},
   "outputs": [
    {
     "name": "stdout",
     "output_type": "stream",
     "text": [
      "Enter your age18\n",
      "You are eligible to vote.\n"
     ]
    }
   ],
   "source": [
    "age=int(input(\"Enter your age\"))\n",
    "if(age>=18):\n",
    "    print(\"You are eligible to vote.\")\n",
    "elif(age<18):\n",
    "    print(\"You are not eligible to vote.\")\n",
    "else:\n",
    "    print(\"User input invalid.\")"
   ]
  },
  {
   "cell_type": "markdown",
   "metadata": {},
   "source": [
    "#### 2. Check the given number is positive or negative "
   ]
  },
  {
   "cell_type": "code",
   "execution_count": 7,
   "metadata": {},
   "outputs": [
    {
     "name": "stdout",
     "output_type": "stream",
     "text": [
      "Enter a number: 2021\n",
      "Positive number\n"
     ]
    }
   ],
   "source": [
    "num = int(input(\"Enter a number: \"))\n",
    "if(num>0):\n",
    "    print(\"Positive number\")\n",
    "elif(num<0):\n",
    "    print(\"Negative number\")\n",
    "else:\n",
    "    print(\"0\")"
   ]
  },
  {
   "cell_type": "markdown",
   "metadata": {},
   "source": [
    "#### 3. Check the given number is even or odd if it's even check which is divisible by 4 or not."
   ]
  },
  {
   "cell_type": "code",
   "execution_count": 10,
   "metadata": {},
   "outputs": [
    {
     "name": "stdout",
     "output_type": "stream",
     "text": [
      "Enter a number: 16\n",
      "16 is even and divisble by 4\n"
     ]
    }
   ],
   "source": [
    "num= int(input(\"Enter a number: \"))\n",
    "if(num%2==0):\n",
    "    if(num%4==0):\n",
    "        print(\"{0} is even and divisble by 4\".format(num))\n",
    "    else:\n",
    "        print(\"{0} is even and not divisible by 4\".format(num))\n",
    "else:\n",
    "    print(\"{0} is an odd number\".format(num))"
   ]
  },
  {
   "cell_type": "markdown",
   "metadata": {},
   "source": [
    "#### 4. Write a program to print student grade based on percentage like Distinction,pass or fail."
   ]
  },
  {
   "cell_type": "code",
   "execution_count": 12,
   "metadata": {},
   "outputs": [
    {
     "name": "stdout",
     "output_type": "stream",
     "text": [
      "Enter your marks: 65\n",
      "Pass\n"
     ]
    }
   ],
   "source": [
    "marks = int(input(\"Enter your marks: \"))\n",
    "if(marks>=75):\n",
    "    print(\"Distinction\")\n",
    "elif(marks>50 and marks<75):\n",
    "    print(\"Pass\")\n",
    "elif(marks<50):\n",
    "    print(\"Fail\")\n",
    "else:\n",
    "    print(\"Invalid input\")"
   ]
  },
  {
   "cell_type": "markdown",
   "metadata": {},
   "source": [
    "#### 5. Check the given year is Leap or not"
   ]
  },
  {
   "cell_type": "code",
   "execution_count": 13,
   "metadata": {},
   "outputs": [
    {
     "name": "stdout",
     "output_type": "stream",
     "text": [
      "Enter Year: 2015\n",
      "2015 is not a leap year\n"
     ]
    }
   ],
   "source": [
    "year = int(input(\"Enter Year: \"))\n",
    "if(year %4==0 and year %100!=0):\n",
    "    print(\"{0} is a leap year\".format(year))\n",
    "elif(year%100==0):\n",
    "    print(\"{0} is not a leap year\".format(year))\n",
    "elif(year%400==0):\n",
    "    print(\"{0} is a leap year\".format(year))\n",
    "else:\n",
    "    print(\"{0} is not a leap year\".format(year))\n",
    "    "
   ]
  },
  {
   "cell_type": "code",
   "execution_count": 1,
   "metadata": {},
   "outputs": [
    {
     "name": "stdout",
     "output_type": "stream",
     "text": [
      "Collecting yapf\n",
      "  Downloading yapf-0.31.0-py2.py3-none-any.whl (185 kB)\n",
      "Installing collected packages: yapf\n",
      "Successfully installed yapf-0.31.0\n",
      "Note: you may need to restart the kernel to use updated packages.\n"
     ]
    }
   ],
   "source": [
    "pip install yapf"
   ]
  },
  {
   "cell_type": "code",
   "execution_count": 2,
   "metadata": {},
   "outputs": [
    {
     "data": {
      "text/plain": [
       "'C:\\\\Users\\\\Sricharan\\\\APSSDC'"
      ]
     },
     "execution_count": 2,
     "metadata": {},
     "output_type": "execute_result"
    }
   ],
   "source": [
    "pwd"
   ]
  },
  {
   "cell_type": "code",
   "execution_count": null,
   "metadata": {},
   "outputs": [],
   "source": []
  }
 ],
 "metadata": {
  "_draft": {
   "nbviewer_url": "https://gist.github.com/1591fb43e2049983b58c1fdcbef03415"
  },
  "gist": {
   "data": {
    "description": "APSSDC/Day-2.ipynb",
    "public": false
   },
   "id": "1591fb43e2049983b58c1fdcbef03415"
  },
  "kernelspec": {
   "display_name": "Python 3",
   "language": "python",
   "name": "python3"
  },
  "language_info": {
   "codemirror_mode": {
    "name": "ipython",
    "version": 3
   },
   "file_extension": ".py",
   "mimetype": "text/x-python",
   "name": "python",
   "nbconvert_exporter": "python",
   "pygments_lexer": "ipython3",
   "version": "3.8.10"
  },
  "nbTranslate": {
   "displayLangs": [
    "*"
   ],
   "hotkey": "alt-t",
   "langInMainMenu": true,
   "sourceLang": "en",
   "targetLang": "fr",
   "useGoogleTranslate": true
  },
  "varInspector": {
   "cols": {
    "lenName": 16,
    "lenType": 16,
    "lenVar": 40
   },
   "kernels_config": {
    "python": {
     "delete_cmd_postfix": "",
     "delete_cmd_prefix": "del ",
     "library": "var_list.py",
     "varRefreshCmd": "print(var_dic_list())"
    },
    "r": {
     "delete_cmd_postfix": ") ",
     "delete_cmd_prefix": "rm(",
     "library": "var_list.r",
     "varRefreshCmd": "cat(var_dic_list()) "
    }
   },
   "types_to_exclude": [
    "module",
    "function",
    "builtin_function_or_method",
    "instance",
    "_Feature"
   ],
   "window_display": false
  }
 },
 "nbformat": 4,
 "nbformat_minor": 4
}
