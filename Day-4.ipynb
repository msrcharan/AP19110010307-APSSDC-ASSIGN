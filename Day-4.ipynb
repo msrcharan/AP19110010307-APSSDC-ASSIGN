{
 "cells": [
  {
   "cell_type": "markdown",
   "metadata": {},
   "source": [
    "# Day-4"
   ]
  },
  {
   "cell_type": "markdown",
   "metadata": {},
   "source": [
    "#### 1.take input from the user.\n",
    "      check the length of the string even or odd\n",
    "      if the string length is odd access one middle character\n",
    "      If the string length is even access two middle characters"
   ]
  },
  {
   "cell_type": "code",
   "execution_count": 14,
   "metadata": {},
   "outputs": [
    {
     "name": "stdout",
     "output_type": "stream",
     "text": [
      "Enter a string: welli\n",
      "l\n"
     ]
    }
   ],
   "source": [
    "s=input(\"Enter a string: \")\n",
    "s_len=len(s)\n",
    "l=int(s_len/2)\n",
    "if(s_len%2==0):\n",
    "    \n",
    "    \n",
    "    print(s[l-1],s[l])\n",
    "else:\n",
    "    print(s[l])\n",
    "    "
   ]
  }
 ],
 "metadata": {
  "kernelspec": {
   "display_name": "Python 3",
   "language": "python",
   "name": "python3"
  },
  "language_info": {
   "codemirror_mode": {
    "name": "ipython",
    "version": 3
   },
   "file_extension": ".py",
   "mimetype": "text/x-python",
   "name": "python",
   "nbconvert_exporter": "python",
   "pygments_lexer": "ipython3",
   "version": "3.8.5"
  }
 },
 "nbformat": 4,
 "nbformat_minor": 4
}
